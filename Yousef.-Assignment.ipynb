{
 "cells": [
  {
   "cell_type": "markdown",
   "id": "d78bac79-faca-45be-8137-a24e228b29e4",
   "metadata": {
    "tags": []
   },
   "source": [
    "# My Jupyter Notebook on IBM Watson Studio"
   ]
  },
  {
   "cell_type": "markdown",
   "id": "7ad7bacc-fade-443e-9fb1-ea4b0abf5384",
   "metadata": {
    "tags": []
   },
   "source": [
    "**Yousef Salman**"
   ]
  },
  {
   "cell_type": "markdown",
   "id": "80c8bf62-b128-4d9a-8a6c-dd908f8008d1",
   "metadata": {},
   "source": [
    "RF Engineer"
   ]
  },
  {
   "cell_type": "markdown",
   "id": "a350a04d-34fb-46fe-8d9f-94f94762e8b9",
   "metadata": {},
   "source": [
    "*I am interested in data science because I feel it's the future of our world and everything gonna be automated and we should be prepared well.in addition, I am enjoying with this combination of programming and statistics and AI engineering*"
   ]
  },
  {
   "cell_type": "markdown",
   "id": "a7390206-3a33-4b98-8c60-7abde64a8627",
   "metadata": {},
   "source": [
    "### the following code will "
   ]
  },
  {
   "cell_type": "code",
   "execution_count": 4,
   "id": "a15bccc4-4cfe-489b-a8ce-d53bc7674644",
   "metadata": {},
   "outputs": [
    {
     "name": "stdout",
     "output_type": "stream",
     "text": [
      "the space of (3,5) rectangle is:  15\n"
     ]
    }
   ],
   "source": [
    "length=5\n",
    "width=3\n",
    "space = length * width\n",
    "print (\"the space of (3,5) rectangle is: \",space)"
   ]
  },
  {
   "cell_type": "code",
   "execution_count": null,
   "id": "3b5f0a89-17cc-4fe0-bc22-cbbd679ae529",
   "metadata": {},
   "outputs": [],
   "source": []
  }
 ],
 "metadata": {
  "kernelspec": {
   "display_name": "Python 3 (ipykernel)",
   "language": "python",
   "name": "python3"
  },
  "language_info": {
   "codemirror_mode": {
    "name": "ipython",
    "version": 3
   },
   "file_extension": ".py",
   "mimetype": "text/x-python",
   "name": "python",
   "nbconvert_exporter": "python",
   "pygments_lexer": "ipython3",
   "version": "3.9.12"
  }
 },
 "nbformat": 4,
 "nbformat_minor": 5
}
